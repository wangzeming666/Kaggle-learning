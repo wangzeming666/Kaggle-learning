{
 "cells": [
  {
   "cell_type": "markdown",
   "id": "f9209f3c",
   "metadata": {},
   "source": [
    "# 🔍 常用相关性分析方法总结\n",
    "本笔记介绍了数据科学和特征工程中常用的相关性分析方法，包括适用条件、使用场景与 Python 示例。"
   ]
  },
  {
   "cell_type": "markdown",
   "id": "0654d850",
   "metadata": {},
   "source": [
    "## 1️⃣ Pearson 皮尔逊相关系数（连续 vs 连续）\n",
    "- 用于衡量两个连续变量之间的线性关系\n",
    "- 适合近似正态分布的变量\n",
    "```python\n",
    "from scipy.stats import pearsonr\n",
    "r, _ = pearsonr(x, y)\n",
    "```"
   ]
  },
  {
   "cell_type": "markdown",
   "id": "cd5aa83c",
   "metadata": {},
   "source": [
    "## 2️⃣ Spearman 秩相关（非线性连续）\n",
    "- 使用排名代替原始数值，适合单调但非线性关系\n",
    "- 更鲁棒于异常值\n",
    "```python\n",
    "from scipy.stats import spearmanr\n",
    "r, _ = spearmanr(x, y)\n",
    "```"
   ]
  },
  {
   "cell_type": "markdown",
   "id": "e41a2eb6",
   "metadata": {},
   "source": [
    "## 3️⃣ Kendall Tau（小样本秩相关）\n",
    "- 更稳健于小样本秩相关分析\n",
    "```python\n",
    "from scipy.stats import kendalltau\n",
    "r, _ = kendalltau(x, y)\n",
    "```"
   ]
  },
  {
   "cell_type": "markdown",
   "id": "fcf7c359",
   "metadata": {},
   "source": [
    "## 4️⃣ Point-Biserial 相关（连续 vs 二分类）\n",
    "- 连续变量与二分类变量之间的线性关系\n",
    "```python\n",
    "from scipy.stats import pointbiserialr\n",
    "r, _ = pointbiserialr(binary_y, x)\n",
    "```"
   ]
  },
  {
   "cell_type": "markdown",
   "id": "7af5221b",
   "metadata": {},
   "source": [
    "## 5️⃣ Cramér’s V（分类 vs 分类）\n",
    "- 用于两个分类变量之间的相关性（卡方检验基础）\n",
    "```python\n",
    "import scipy.stats as stats\n",
    "import numpy as np\n",
    "\n",
    "def cramers_v(x, y):\n",
    "    confusion_matrix = pd.crosstab(x, y)\n",
    "    chi2 = stats.chi2_contingency(confusion_matrix)[0]\n",
    "    n = confusion_matrix.sum().sum()\n",
    "    phi2 = chi2 / n\n",
    "    r, k = confusion_matrix.shape\n",
    "    return np.sqrt(phi2 / min(k - 1, r - 1))\n",
    "```"
   ]
  },
  {
   "cell_type": "markdown",
   "id": "1061bdd5",
   "metadata": {},
   "source": [
    "## 6️⃣ Mutual Information（任意类型）\n",
    "- 衡量变量之间的信息共享程度\n",
    "- 适合非线性、分类、混合型变量\n",
    "```python\n",
    "from sklearn.feature_selection import mutual_info_classif, mutual_info_regression\n",
    "mi_score = mutual_info_classif(X, y)  # 分类\n",
    "mi_score = mutual_info_regression(X, y)  # 回归\n",
    "```"
   ]
  },
  {
   "cell_type": "markdown",
   "id": "6bc4d480",
   "metadata": {},
   "source": [
    "## ✅ 方法选择建议表：\n",
    "| 特征类型 | 目标类型 | 推荐方法 |\n",
    "|-----------|------------|----------------------|\n",
    "| 连续 vs 连续 | 连续 | Pearson / Spearman |\n",
    "| 连续 vs 二分类 | int(0/1) | Point-Biserial |\n",
    "| 分类 vs 二分类 | 分类 vs int | Mutual Information (Classif) |\n",
    "| 连续 vs 分类 | 连续 vs 分类 | Mutual Information (Reg) |\n",
    "| 分类 vs 分类 | 分类 | Cramér’s V |"
   ]
  },
  {
   "cell_type": "markdown",
   "id": "87c183ff",
   "metadata": {},
   "source": [
    "## 🤖 自动相关性检测器（Auto Correlation Detector）\n",
    "本部分介绍如何构建一个自动相关性检测器，根据变量类型动态选择合适的相关性评估方法。"
   ]
  },
  {
   "cell_type": "markdown",
   "id": "a751a434",
   "metadata": {},
   "source": [
    "### 📌 实现思路：\n",
    "1. 判断变量的数据类型（数值、分类、二分类）\n",
    "2. 根据变量组合自动选择方法：\n",
    "   - 数值 vs 数值 → Pearson(or Spearman)\n",
    "   - 数值 vs 二分类 → Point-Biserial\n",
    "   - 分类 vs 分类 → Cramér’s V\n",
    "   - 数值 vs 分类 → Mutual Information Regression\n",
    "   - 分类 vs 二分类 → Mutual Information Classification\n",
    "3. 计算相关性并输出评分表"
   ]
  },
  {
   "cell_type": "markdown",
   "id": "a66f83bc",
   "metadata": {},
   "source": [
    "### 🧠 实现代码（简化版）"
   ]
  },
  {
   "cell_type": "code",
   "execution_count": null,
   "id": "02432d7e",
   "metadata": {},
   "outputs": [],
   "source": [
    "import pandas as pd\n",
    "import numpy as np\n",
    "from scipy.stats import pearsonr, pointbiserialr, chi2_contingency\n",
    "from sklearn.feature_selection import mutual_info_classif, mutual_info_regression\n",
    "from pandas.api.types import is_numeric_dtype, is_categorical_dtype\n",
    "\n",
    "def auto_correlation_detector(df, target):\n",
    "    results = []\n",
    "    for col in df.columns:\n",
    "        if col == target:\n",
    "            continue\n",
    "\n",
    "        x = df[col]\n",
    "        y = df[target]\n",
    "\n",
    "        # 类型标准化\n",
    "        if is_categorical_dtype(y): y = y.cat.codes\n",
    "        if is_categorical_dtype(x): x = x.cat.codes\n",
    "\n",
    "        if is_numeric_dtype(x) and is_numeric_dtype(y):\n",
    "            method = 'pearson'\n",
    "            score = pearsonr(x, y)[0]\n",
    "        elif is_numeric_dtype(x) and set(y.unique()) <= {0, 1}:\n",
    "            method = 'point-biserial'\n",
    "            score = pointbiserialr(y, x)[0]\n",
    "        elif not is_numeric_dtype(x) and not is_numeric_dtype(y):\n",
    "            confusion_matrix = pd.crosstab(x, y)\n",
    "            chi2 = chi2_contingency(confusion_matrix)[0]\n",
    "            n = confusion_matrix.sum().sum()\n",
    "            phi2 = chi2 / n\n",
    "            r, k = confusion_matrix.shape\n",
    "            method = 'cramér's V'\n",
    "            score = np.sqrt(phi2 / min(k - 1, r - 1))\n",
    "        elif not is_numeric_dtype(x) and set(y.unique()) <= {0, 1}:\n",
    "            method = 'mutual_info_classif'\n",
    "            score = mutual_info_classif(x.values.reshape(-1,1), y)[0]\n",
    "        elif is_numeric_dtype(x) and not is_numeric_dtype(y):\n",
    "            method = 'mutual_info_regression'\n",
    "            score = mutual_info_regression(x.values.reshape(-1,1), y)[0]\n",
    "        else:\n",
    "            method = 'unknown'\n",
    "            score = np.nan\n",
    "\n",
    "        results.append({'Feature': col, 'Method': method, 'Score': score})\n",
    "\n",
    "    return pd.DataFrame(results).sort_values(by='Score', ascending=False)"
   ]
  },
  {
   "cell_type": "markdown",
   "id": "30cfa47b",
   "metadata": {},
   "source": [
    "### ✅ 使用方式"
   ]
  },
  {
   "cell_type": "code",
   "execution_count": null,
   "id": "c5882d83",
   "metadata": {},
   "outputs": [],
   "source": [
    "# 假设 df 是包含混合类型变量的 DataFrame，'target' 是目标列\n",
    "result_df = auto_correlation_detector(df, target='target')\n",
    "print(result_df)"
   ]
  }
 ],
 "metadata": {},
 "nbformat": 4,
 "nbformat_minor": 5
}
