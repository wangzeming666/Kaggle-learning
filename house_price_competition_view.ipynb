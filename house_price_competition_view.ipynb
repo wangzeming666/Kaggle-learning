{
 "cells": [
  {
   "cell_type": "code",
   "execution_count": 32,
   "id": "55114e38-529b-4448-a457-b0041e2cf851",
   "metadata": {},
   "outputs": [
    {
     "name": "stdout",
     "output_type": "stream",
     "text": [
      "['house_price_advanced_view.ipynb', 'submission.csv', 'house_price_advanced_models.ipynb', 'my_model_submission.csv1', 'my_model_submission4.csv', 'house_price', 'Day1.ipynb', 'titanic', 'house-prices-advanced-regression-techniques.zip', 'titanic.zip', 'my_model_submission3.csv', 'my_model_submission0.csv', 'Day2 Housing Price.ipynb', 'my_model_submission.csv', 'my_model_submission1.csv', 'house_price_view.ipynb', 'home-data-for-ml-course.zip', '.ipynb_checkpoints', 'home-data-for-ml-course', 'house_price.ipynb', 'my_model_submission2.csv']\n"
     ]
    }
   ],
   "source": [
    "import numpy as np\n",
    "import pandas as pd\n",
    "\n",
    "from datetime import datetime\n",
    "from scipy.stats import skew \n",
    "from scipy.special import boxcox1p\n",
    "from scipy.stats import boxcox_normmax\n",
    "from sklearn.linear_model import ElasticNetCV, LassoCV, RidgeCV\n",
    "from sklearn.ensemble import GradientBoostingRegressor\n",
    "from sklearn.svm import SVR\n",
    "from sklearn.pipeline import make_pipeline\n",
    "from sklearn.preprocessing import RobustScaler\n",
    "from sklearn.model_selection import KFold, cross_val_score\n",
    "from sklearn.metrics import mean_squared_error\n",
    "from mlxtend.regressor import StackingCVRegressor\n",
    "from xgboost import XGBRegressor\n",
    "from lightgbm import LGBMRegressor\n",
    "import matplotlib.pyplot as plt\n",
    "import scipy.stats as stats\n",
    "import sklearn.linear_model as linear_model\n",
    "import seaborn as sns\n",
    "from sklearn.manifold import TSNE\n",
    "from sklearn.cluster import KMeans\n",
    "from sklearn.decomposition import PCA\n",
    "from sklearn.preprocessing import StandardScaler\n",
    "\n",
    "import os\n",
    "print(os.listdir())\n",
    "\n",
    "import warnings\n",
    "warnings.filterwarnings('ignore')\n"
   ]
  },
  {
   "cell_type": "code",
   "execution_count": 33,
   "id": "295e988f-54f7-47ba-af02-99924d049649",
   "metadata": {},
   "outputs": [
    {
     "name": "stdout",
     "output_type": "stream",
     "text": [
      "Data is loaded!\n"
     ]
    }
   ],
   "source": [
    "train = pd.read_csv('house_price/dataset.csv')\n",
    "test = pd.read_csv('house_price/test.csv')\n",
    "print (\"Data is loaded!\")"
   ]
  },
  {
   "cell_type": "code",
   "execution_count": 34,
   "id": "b1980ce0-02f9-4be6-925b-c048c43d5930",
   "metadata": {},
   "outputs": [
    {
     "name": "stdout",
     "output_type": "stream",
     "text": [
      "Train:  200000 sales, and  47 features\n",
      "Test:  200000 sales, and  46 features\n"
     ]
    }
   ],
   "source": [
    "print (\"Train: \",train.shape[0],\"sales, and \",train.shape[1],\"features\")\n",
    "print (\"Test: \",test.shape[0],\"sales, and \",test.shape[1],\"features\")"
   ]
  },
  {
   "cell_type": "code",
   "execution_count": 35,
   "id": "975b417e-8bc3-4440-89b3-035abf7c7dc4",
   "metadata": {},
   "outputs": [
    {
     "data": {
      "text/plain": [
       "(200000, 47)"
      ]
     },
     "execution_count": 35,
     "metadata": {},
     "output_type": "execute_result"
    }
   ],
   "source": [
    "train.shape"
   ]
  },
  {
   "cell_type": "code",
   "execution_count": 36,
   "id": "6e797ee1-9d3c-4a37-9369-657c083b5936",
   "metadata": {},
   "outputs": [
    {
     "data": {
      "text/html": [
       "<div>\n",
       "<style scoped>\n",
       "    .dataframe tbody tr th:only-of-type {\n",
       "        vertical-align: middle;\n",
       "    }\n",
       "\n",
       "    .dataframe tbody tr th {\n",
       "        vertical-align: top;\n",
       "    }\n",
       "\n",
       "    .dataframe thead th {\n",
       "        text-align: right;\n",
       "    }\n",
       "</style>\n",
       "<table border=\"1\" class=\"dataframe\">\n",
       "  <thead>\n",
       "    <tr style=\"text-align: right;\">\n",
       "      <th></th>\n",
       "      <th>id</th>\n",
       "      <th>sale_date</th>\n",
       "      <th>sale_price</th>\n",
       "      <th>sale_nbr</th>\n",
       "      <th>sale_warning</th>\n",
       "      <th>join_status</th>\n",
       "      <th>join_year</th>\n",
       "      <th>latitude</th>\n",
       "      <th>longitude</th>\n",
       "      <th>area</th>\n",
       "      <th>...</th>\n",
       "      <th>view_olympics</th>\n",
       "      <th>view_cascades</th>\n",
       "      <th>view_territorial</th>\n",
       "      <th>view_skyline</th>\n",
       "      <th>view_sound</th>\n",
       "      <th>view_lakewash</th>\n",
       "      <th>view_lakesamm</th>\n",
       "      <th>view_otherwater</th>\n",
       "      <th>view_other</th>\n",
       "      <th>submarket</th>\n",
       "    </tr>\n",
       "  </thead>\n",
       "  <tbody>\n",
       "    <tr>\n",
       "      <th>0</th>\n",
       "      <td>0</td>\n",
       "      <td>2014-11-15</td>\n",
       "      <td>236000</td>\n",
       "      <td>2.0</td>\n",
       "      <td></td>\n",
       "      <td>nochg</td>\n",
       "      <td>2025</td>\n",
       "      <td>47.2917</td>\n",
       "      <td>-122.3658</td>\n",
       "      <td>53</td>\n",
       "      <td>...</td>\n",
       "      <td>0</td>\n",
       "      <td>0</td>\n",
       "      <td>0</td>\n",
       "      <td>0</td>\n",
       "      <td>0</td>\n",
       "      <td>0</td>\n",
       "      <td>0</td>\n",
       "      <td>0</td>\n",
       "      <td>0</td>\n",
       "      <td>I</td>\n",
       "    </tr>\n",
       "    <tr>\n",
       "      <th>1</th>\n",
       "      <td>1</td>\n",
       "      <td>1999-01-15</td>\n",
       "      <td>313300</td>\n",
       "      <td>NaN</td>\n",
       "      <td>26</td>\n",
       "      <td>nochg</td>\n",
       "      <td>2025</td>\n",
       "      <td>47.6531</td>\n",
       "      <td>-122.1996</td>\n",
       "      <td>74</td>\n",
       "      <td>...</td>\n",
       "      <td>0</td>\n",
       "      <td>0</td>\n",
       "      <td>0</td>\n",
       "      <td>0</td>\n",
       "      <td>0</td>\n",
       "      <td>1</td>\n",
       "      <td>0</td>\n",
       "      <td>0</td>\n",
       "      <td>0</td>\n",
       "      <td>Q</td>\n",
       "    </tr>\n",
       "    <tr>\n",
       "      <th>2</th>\n",
       "      <td>2</td>\n",
       "      <td>2006-08-15</td>\n",
       "      <td>341000</td>\n",
       "      <td>1.0</td>\n",
       "      <td></td>\n",
       "      <td>nochg</td>\n",
       "      <td>2025</td>\n",
       "      <td>47.4733</td>\n",
       "      <td>-122.1901</td>\n",
       "      <td>30</td>\n",
       "      <td>...</td>\n",
       "      <td>0</td>\n",
       "      <td>0</td>\n",
       "      <td>0</td>\n",
       "      <td>0</td>\n",
       "      <td>0</td>\n",
       "      <td>0</td>\n",
       "      <td>0</td>\n",
       "      <td>0</td>\n",
       "      <td>0</td>\n",
       "      <td>K</td>\n",
       "    </tr>\n",
       "    <tr>\n",
       "      <th>3</th>\n",
       "      <td>3</td>\n",
       "      <td>1999-12-15</td>\n",
       "      <td>267000</td>\n",
       "      <td>1.0</td>\n",
       "      <td></td>\n",
       "      <td>nochg</td>\n",
       "      <td>2025</td>\n",
       "      <td>47.4739</td>\n",
       "      <td>-122.3295</td>\n",
       "      <td>96</td>\n",
       "      <td>...</td>\n",
       "      <td>0</td>\n",
       "      <td>0</td>\n",
       "      <td>0</td>\n",
       "      <td>0</td>\n",
       "      <td>0</td>\n",
       "      <td>0</td>\n",
       "      <td>0</td>\n",
       "      <td>0</td>\n",
       "      <td>0</td>\n",
       "      <td>G</td>\n",
       "    </tr>\n",
       "    <tr>\n",
       "      <th>4</th>\n",
       "      <td>4</td>\n",
       "      <td>2018-07-15</td>\n",
       "      <td>1650000</td>\n",
       "      <td>2.0</td>\n",
       "      <td></td>\n",
       "      <td>miss99</td>\n",
       "      <td>2025</td>\n",
       "      <td>47.7516</td>\n",
       "      <td>-122.1222</td>\n",
       "      <td>36</td>\n",
       "      <td>...</td>\n",
       "      <td>0</td>\n",
       "      <td>0</td>\n",
       "      <td>0</td>\n",
       "      <td>0</td>\n",
       "      <td>0</td>\n",
       "      <td>0</td>\n",
       "      <td>0</td>\n",
       "      <td>0</td>\n",
       "      <td>0</td>\n",
       "      <td>P</td>\n",
       "    </tr>\n",
       "  </tbody>\n",
       "</table>\n",
       "<p>5 rows × 47 columns</p>\n",
       "</div>"
      ],
      "text/plain": [
       "   id   sale_date  sale_price  sale_nbr sale_warning join_status  join_year  \\\n",
       "0   0  2014-11-15      236000       2.0                    nochg       2025   \n",
       "1   1  1999-01-15      313300       NaN          26        nochg       2025   \n",
       "2   2  2006-08-15      341000       1.0                    nochg       2025   \n",
       "3   3  1999-12-15      267000       1.0                    nochg       2025   \n",
       "4   4  2018-07-15     1650000       2.0                   miss99       2025   \n",
       "\n",
       "   latitude  longitude  area  ... view_olympics view_cascades  \\\n",
       "0   47.2917  -122.3658    53  ...             0             0   \n",
       "1   47.6531  -122.1996    74  ...             0             0   \n",
       "2   47.4733  -122.1901    30  ...             0             0   \n",
       "3   47.4739  -122.3295    96  ...             0             0   \n",
       "4   47.7516  -122.1222    36  ...             0             0   \n",
       "\n",
       "  view_territorial  view_skyline  view_sound  view_lakewash  view_lakesamm  \\\n",
       "0                0             0           0              0              0   \n",
       "1                0             0           0              1              0   \n",
       "2                0             0           0              0              0   \n",
       "3                0             0           0              0              0   \n",
       "4                0             0           0              0              0   \n",
       "\n",
       "   view_otherwater  view_other  submarket  \n",
       "0                0           0          I  \n",
       "1                0           0          Q  \n",
       "2                0           0          K  \n",
       "3                0           0          G  \n",
       "4                0           0          P  \n",
       "\n",
       "[5 rows x 47 columns]"
      ]
     },
     "execution_count": 36,
     "metadata": {},
     "output_type": "execute_result"
    }
   ],
   "source": [
    "train.head()"
   ]
  },
  {
   "cell_type": "code",
   "execution_count": 37,
   "id": "889d7f21-d790-4d61-bdb2-fa7feec78362",
   "metadata": {},
   "outputs": [
    {
     "data": {
      "text/html": [
       "<div>\n",
       "<style scoped>\n",
       "    .dataframe tbody tr th:only-of-type {\n",
       "        vertical-align: middle;\n",
       "    }\n",
       "\n",
       "    .dataframe tbody tr th {\n",
       "        vertical-align: top;\n",
       "    }\n",
       "\n",
       "    .dataframe thead th {\n",
       "        text-align: right;\n",
       "    }\n",
       "</style>\n",
       "<table border=\"1\" class=\"dataframe\">\n",
       "  <thead>\n",
       "    <tr style=\"text-align: right;\">\n",
       "      <th></th>\n",
       "      <th>id</th>\n",
       "      <th>sale_date</th>\n",
       "      <th>sale_nbr</th>\n",
       "      <th>sale_warning</th>\n",
       "      <th>join_status</th>\n",
       "      <th>join_year</th>\n",
       "      <th>latitude</th>\n",
       "      <th>longitude</th>\n",
       "      <th>area</th>\n",
       "      <th>city</th>\n",
       "      <th>...</th>\n",
       "      <th>view_olympics</th>\n",
       "      <th>view_cascades</th>\n",
       "      <th>view_territorial</th>\n",
       "      <th>view_skyline</th>\n",
       "      <th>view_sound</th>\n",
       "      <th>view_lakewash</th>\n",
       "      <th>view_lakesamm</th>\n",
       "      <th>view_otherwater</th>\n",
       "      <th>view_other</th>\n",
       "      <th>submarket</th>\n",
       "    </tr>\n",
       "  </thead>\n",
       "  <tbody>\n",
       "    <tr>\n",
       "      <th>0</th>\n",
       "      <td>200000</td>\n",
       "      <td>2022-12-15</td>\n",
       "      <td>4.0</td>\n",
       "      <td></td>\n",
       "      <td>new</td>\n",
       "      <td>2025</td>\n",
       "      <td>47.4794</td>\n",
       "      <td>-122.2212</td>\n",
       "      <td>25</td>\n",
       "      <td>RENTON</td>\n",
       "      <td>...</td>\n",
       "      <td>0</td>\n",
       "      <td>0</td>\n",
       "      <td>0</td>\n",
       "      <td>0</td>\n",
       "      <td>0</td>\n",
       "      <td>0</td>\n",
       "      <td>0</td>\n",
       "      <td>0</td>\n",
       "      <td>0</td>\n",
       "      <td>J</td>\n",
       "    </tr>\n",
       "    <tr>\n",
       "      <th>1</th>\n",
       "      <td>200001</td>\n",
       "      <td>2000-10-15</td>\n",
       "      <td>2.0</td>\n",
       "      <td></td>\n",
       "      <td>new</td>\n",
       "      <td>2025</td>\n",
       "      <td>47.5778</td>\n",
       "      <td>-122.0270</td>\n",
       "      <td>69</td>\n",
       "      <td>SAMMAMISH</td>\n",
       "      <td>...</td>\n",
       "      <td>0</td>\n",
       "      <td>0</td>\n",
       "      <td>0</td>\n",
       "      <td>0</td>\n",
       "      <td>0</td>\n",
       "      <td>0</td>\n",
       "      <td>0</td>\n",
       "      <td>0</td>\n",
       "      <td>0</td>\n",
       "      <td>O</td>\n",
       "    </tr>\n",
       "    <tr>\n",
       "      <th>2</th>\n",
       "      <td>200002</td>\n",
       "      <td>2004-06-15</td>\n",
       "      <td>1.0</td>\n",
       "      <td></td>\n",
       "      <td>nochg</td>\n",
       "      <td>2025</td>\n",
       "      <td>47.5632</td>\n",
       "      <td>-122.1623</td>\n",
       "      <td>31</td>\n",
       "      <td>BELLEVUE</td>\n",
       "      <td>...</td>\n",
       "      <td>3</td>\n",
       "      <td>0</td>\n",
       "      <td>3</td>\n",
       "      <td>3</td>\n",
       "      <td>0</td>\n",
       "      <td>2</td>\n",
       "      <td>0</td>\n",
       "      <td>0</td>\n",
       "      <td>0</td>\n",
       "      <td>R</td>\n",
       "    </tr>\n",
       "    <tr>\n",
       "      <th>3</th>\n",
       "      <td>200003</td>\n",
       "      <td>2009-11-15</td>\n",
       "      <td>1.0</td>\n",
       "      <td></td>\n",
       "      <td>nochg</td>\n",
       "      <td>2025</td>\n",
       "      <td>47.6911</td>\n",
       "      <td>-122.3469</td>\n",
       "      <td>6</td>\n",
       "      <td>SEATTLE</td>\n",
       "      <td>...</td>\n",
       "      <td>0</td>\n",
       "      <td>0</td>\n",
       "      <td>0</td>\n",
       "      <td>0</td>\n",
       "      <td>0</td>\n",
       "      <td>0</td>\n",
       "      <td>0</td>\n",
       "      <td>0</td>\n",
       "      <td>0</td>\n",
       "      <td>B</td>\n",
       "    </tr>\n",
       "    <tr>\n",
       "      <th>4</th>\n",
       "      <td>200004</td>\n",
       "      <td>1999-06-15</td>\n",
       "      <td>1.0</td>\n",
       "      <td></td>\n",
       "      <td>reno - before</td>\n",
       "      <td>1999</td>\n",
       "      <td>47.4001</td>\n",
       "      <td>-122.4146</td>\n",
       "      <td>100</td>\n",
       "      <td>KING COUNTY</td>\n",
       "      <td>...</td>\n",
       "      <td>0</td>\n",
       "      <td>2</td>\n",
       "      <td>4</td>\n",
       "      <td>0</td>\n",
       "      <td>3</td>\n",
       "      <td>0</td>\n",
       "      <td>0</td>\n",
       "      <td>0</td>\n",
       "      <td>0</td>\n",
       "      <td>H</td>\n",
       "    </tr>\n",
       "  </tbody>\n",
       "</table>\n",
       "<p>5 rows × 46 columns</p>\n",
       "</div>"
      ],
      "text/plain": [
       "       id   sale_date  sale_nbr sale_warning    join_status  join_year  \\\n",
       "0  200000  2022-12-15       4.0                         new       2025   \n",
       "1  200001  2000-10-15       2.0                         new       2025   \n",
       "2  200002  2004-06-15       1.0                       nochg       2025   \n",
       "3  200003  2009-11-15       1.0                       nochg       2025   \n",
       "4  200004  1999-06-15       1.0               reno - before       1999   \n",
       "\n",
       "   latitude  longitude  area         city  ... view_olympics view_cascades  \\\n",
       "0   47.4794  -122.2212    25       RENTON  ...             0             0   \n",
       "1   47.5778  -122.0270    69    SAMMAMISH  ...             0             0   \n",
       "2   47.5632  -122.1623    31     BELLEVUE  ...             3             0   \n",
       "3   47.6911  -122.3469     6      SEATTLE  ...             0             0   \n",
       "4   47.4001  -122.4146   100  KING COUNTY  ...             0             2   \n",
       "\n",
       "   view_territorial  view_skyline  view_sound  view_lakewash  view_lakesamm  \\\n",
       "0                 0             0           0              0              0   \n",
       "1                 0             0           0              0              0   \n",
       "2                 3             3           0              2              0   \n",
       "3                 0             0           0              0              0   \n",
       "4                 4             0           3              0              0   \n",
       "\n",
       "   view_otherwater  view_other  submarket  \n",
       "0                0           0          J  \n",
       "1                0           0          O  \n",
       "2                0           0          R  \n",
       "3                0           0          B  \n",
       "4                0           0          H  \n",
       "\n",
       "[5 rows x 46 columns]"
      ]
     },
     "execution_count": 37,
     "metadata": {},
     "output_type": "execute_result"
    }
   ],
   "source": [
    "test.head()"
   ]
  },
  {
   "cell_type": "code",
   "execution_count": 38,
   "id": "36324f1a-4430-4669-b963-4cb51daff656",
   "metadata": {},
   "outputs": [],
   "source": [
    "quantitative = [f for f in train.columns if train.dtypes[f] != 'object']\n",
    "quantitative.remove('sale_price')\n",
    "quantitative.remove('id')\n",
    "qualitative = [f for f in train.columns if train.dtypes[f] == 'object']"
   ]
  },
  {
   "cell_type": "code",
   "execution_count": 39,
   "id": "c0722449-02cd-4fe2-a15e-26e5e3916f24",
   "metadata": {},
   "outputs": [
    {
     "data": {
      "text/plain": [
       "id                      0\n",
       "sale_date               0\n",
       "sale_price              0\n",
       "sale_nbr            42182\n",
       "sale_warning            0\n",
       "join_status             0\n",
       "join_year               0\n",
       "latitude                0\n",
       "longitude               0\n",
       "area                    0\n",
       "city                    0\n",
       "zoning                  0\n",
       "subdivision         17550\n",
       "present_use             0\n",
       "land_val                0\n",
       "imp_val                 0\n",
       "year_built              0\n",
       "year_reno               0\n",
       "sqft_lot                0\n",
       "sqft                    0\n",
       "sqft_1                  0\n",
       "sqft_fbsmt              0\n",
       "grade                   0\n",
       "fbsmt_grade             0\n",
       "condition               0\n",
       "stories                 0\n",
       "beds                    0\n",
       "bath_full               0\n",
       "bath_3qtr               0\n",
       "bath_half               0\n",
       "garb_sqft               0\n",
       "gara_sqft               0\n",
       "wfnt                    0\n",
       "golf                    0\n",
       "greenbelt               0\n",
       "noise_traffic           0\n",
       "view_rainier            0\n",
       "view_olympics           0\n",
       "view_cascades           0\n",
       "view_territorial        0\n",
       "view_skyline            0\n",
       "view_sound              0\n",
       "view_lakewash           0\n",
       "view_lakesamm           0\n",
       "view_otherwater         0\n",
       "view_other              0\n",
       "submarket            1717\n",
       "dtype: int64"
      ]
     },
     "execution_count": 39,
     "metadata": {},
     "output_type": "execute_result"
    }
   ],
   "source": [
    "sns.set_style(\"whitegrid\")\n",
    "missing = train.isnull().sum()\n",
    "missing"
   ]
  },
  {
   "cell_type": "code",
   "execution_count": 40,
   "id": "c797c285-834e-41f5-b0d0-c933e9db502c",
   "metadata": {},
   "outputs": [
    {
     "data": {
      "text/plain": [
       "sale_nbr       42182\n",
       "subdivision    17550\n",
       "submarket       1717\n",
       "dtype: int64"
      ]
     },
     "execution_count": 40,
     "metadata": {},
     "output_type": "execute_result"
    }
   ],
   "source": [
    "missing = missing[missing > 0]\n",
    "missing"
   ]
  },
  {
   "cell_type": "code",
   "execution_count": 41,
   "id": "68483b5e-161a-4935-9567-04e610896a9e",
   "metadata": {},
   "outputs": [
    {
     "data": {
      "text/plain": [
       "<Axes: >"
      ]
     },
     "execution_count": 41,
     "metadata": {},
     "output_type": "execute_result"
    },
    {
     "data": {
      "image/png": "[encoded data removed]",
      "text/plain": [
       "<Figure size 640x480 with 1 Axes>"
      ]
     },
     "metadata": {},
     "output_type": "display_data"
    }
   ],
   "source": [
    "missing.sort_values(inplace=True)\n",
    "missing.plot.bar()"
   ]
  },
  {
   "cell_type": "code",
   "execution_count": 42,
   "id": "458ec549-f9a9-4cf9-90a0-6a7f255b9a84",
   "metadata": {},
   "outputs": [
    {
     "data": {
      "text/plain": [
       "<Axes: title={'center': 'Log Normal'}, xlabel='sale_price'>"
      ]
     },
     "execution_count": 42,
     "metadata": {},
     "output_type": "execute_result"
    },
    {
     "data": {
      "image/png": "[encoded data removed]",
      "text/plain": [
       "<Figure size 640x480 with 1 Axes>"
      ]
     },
     "metadata": {},
     "output_type": "display_data"
    },
    {
     "data": {
      "image/png": "[encoded data removed]",
      "text/plain": [
       "<Figure size 640x480 with 1 Axes>"
      ]
     },
     "metadata": {},
     "output_type": "display_data"
    },
    {
     "data": {
      "image/png": "[encoded data removed]",
      "text/plain": [
       "<Figure size 640x480 with 1 Axes>"
      ]
     },
     "metadata": {},
     "output_type": "display_data"
    }
   ],
   "source": [
    "y = train['sale_price']\n",
    "plt.figure(1); plt.title('Johnson SU')\n",
    "sns.distplot(y, kde=False, fit=stats.johnsonsu)\n",
    "plt.figure(2); plt.title('Normal')\n",
    "sns.distplot(y, kde=False, fit=stats.norm)\n",
    "plt.figure(3); plt.title('Log Normal')\n",
    "sns.distplot(y, kde=False, fit=stats.lognorm)"
   ]
  },
  {
   "cell_type": "code",
   "execution_count": 43,
   "id": "732713cb-f317-4b02-be7e-010cc4546037",
   "metadata": {},
   "outputs": [
    {
     "name": "stdout",
     "output_type": "stream",
     "text": [
      "False\n"
     ]
    }
   ],
   "source": [
    "# shapiro-wilk test 正态性检验方法，常用，准确性高，适合小样本量\n",
    "test_normality = lambda x: stats.shapiro(x.fillna(0))[1] < 0.01\n",
    "normal = pd.DataFrame(train[quantitative])\n",
    "normal = normal.apply(test_normality)\n",
    "print(not normal.any())"
   ]
  },
  {
   "cell_type": "code",
   "execution_count": null,
   "id": "0e4c1283-a196-4a13-b9f0-4ed691dcbea8",
   "metadata": {},
   "outputs": [],
   "source": [
    "def encode(frame, feature):\n",
    "    ordering = pd.DataFrame()\n",
    "    ordering['val'] = frame[feature].unique()\n",
    "    ordering.index = ordering.val\n",
    "    ordering['spmean'] = frame[[feature, 'sale_price']].groupby(feature).mean()['sale_price']\n",
    "    ordering = ordering.sort_values('spmean')\n",
    "    ordering['ordering'] = range(1, ordering.shape[0]+1)\n",
    "    ordering = ordering['ordering'].to_dict()\n",
    "    \n",
    "    for cat, o in ordering.items():\n",
    "        frame.loc[frame[feature] == cat, feature+'_E'] = o\n",
    "    \n",
    "qual_encoded = []\n",
    "for q in qualitative:  \n",
    "    encode(train, q)\n",
    "    qual_encoded.append(q+'_E')\n",
    "print(qual_encoded)"
   ]
  },
  {
   "cell_type": "code",
   "execution_count": null,
   "id": "316f2992-ec33-46b5-8c8e-c7756cefa9a0",
   "metadata": {},
   "outputs": [],
   "source": [
    "def spearman(frame, features):\n",
    "    spr = pd.DataFrame()\n",
    "    spr['feature'] = features\n",
    "    spr['spearman'] = [frame[f].corr(frame['SalePrice'], 'spearman') for f in features]\n",
    "    spr = spr.sort_values('spearman')\n",
    "    plt.figure(figsize=(6, 0.25*len(features)))\n",
    "    sns.barplot(data=spr, y='feature', x='spearman', orient='h')\n",
    "    \n",
    "features = quantitative + qual_encoded\n",
    "spearman(train, features)"
   ]
  },
  {
   "cell_type": "code",
   "execution_count": null,
   "id": "a2ed4add-7da7-4890-8f9e-12efa0912d6d",
   "metadata": {},
   "outputs": [],
   "source": [
    "plt.figure(1)\n",
    "corr = train[quantitative+['sale_price']].corr()\n",
    "sns.heatmap(corr)\n",
    "plt.figure(2)\n",
    "corr = train[qual_encoded+['sale_price']].corr()\n",
    "sns.heatmap(corr)\n",
    "plt.figure(3)\n",
    "# 设置空矩阵，用来存放相关系数值\n",
    "corr = pd.DataFrame(np.zeros([len(quantitative)+1, len(qual_encoded)+1]), index=quantitative+['sale_price'], columns=qual_encoded+['SalePrice'])\n",
    "for q1 in quantitative+['sale_price']:\n",
    "    for q2 in qual_encoded+['sale_price']:\n",
    "        # 将相关系数存在刚才的空矩阵指定位置，df.loc['row_label1', 'row_label2'] \n",
    "        corr.loc[q1, q2] = train[q1].corr(train[q2])\n",
    "sns.heatmap(corr)"
   ]
  },
  {
   "cell_type": "code",
   "execution_count": null,
   "id": "b542508b-a315-4bc3-bc5e-ab2fa3db1f9f",
   "metadata": {},
   "outputs": [],
   "source": [
    "import umap.umap_ as umap\n",
    "features = quantitative + qual_encoded\n",
    "X = train[features].fillna(0.).values\n",
    "pca = PCA(n_components=20)\n",
    "X_pca = pca.fit_transform(X)\n",
    "reducer = umap.UMAP(n_neighbors=15, min_dist=0.1, n_components=2, random_state=42, n_jobs=-1)"
   ]
  },
  {
   "cell_type": "code",
   "execution_count": null,
   "id": "5bdcb750-00b2-4788-979c-e42505d501b7",
   "metadata": {},
   "outputs": [],
   "source": [
    "import matplotlib.pyplot as plt\n",
    "\n",
    "plt.figure(figsize=(6,6))\n",
    "plt.scatter(X_umap[:, 0], X_umap[:, 1], s=10, alpha=0.7)\n",
    "plt.title(\"UMAP 2D Projection\")\n",
    "plt.xlabel(\"UMAP-1\")\n",
    "plt.ylabel(\"UMAP-2\")\n",
    "plt.grid(True)\n",
    "plt.show()\n",
    "\n"
   ]
  },
  {
   "cell_type": "code",
   "execution_count": null,
   "id": "ae6afd72-c621-4b55-96d9-9b16cba5414f",
   "metadata": {},
   "outputs": [],
   "source": [
    "X_kmeans = KMeans(n_clusters=20, random_state=0)\n",
    "X_kmeans.fit(X_umap)\n",
    "fr = pd.DataFrame({'umap1': X_umap[:,0], 'umap2': X_umap[:, 1], 'cluster': X_kmeans.labels_})\n",
    "sns.lmplot(data=fr, x='umap1', y='umap2', hue='cluster', fit_reg=False)"
   ]
  },
  {
   "cell_type": "code",
   "execution_count": null,
   "id": "05e43a1e-6cac-42b6-beeb-d60c58f07a15",
   "metadata": {},
   "outputs": [],
   "source": [
    "import seaborn as sns\n",
    "import matplotlib.pyplot as plt\n",
    "\n",
    "sns.histplot(train['sale_price'], kde=True)\n",
    "plt.title(\"Price distrubution\")\n",
    "plt.show()\n",
    "\n"
   ]
  }
 ],
 "metadata": {
  "kernelspec": {
   "display_name": "Python 3 (ipykernel)",
   "language": "python",
   "name": "python3"
  },
  "language_info": {
   "codemirror_mode": {
    "name": "ipython",
    "version": 3
   },
   "file_extension": ".py",
   "mimetype": "text/x-python",
   "name": "python",
   "nbconvert_exporter": "python",
   "pygments_lexer": "ipython3",
   "version": "3.10.12"
  }
 },
 "nbformat": 4,
 "nbformat_minor": 5
}
