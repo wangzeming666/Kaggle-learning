{
 "cells": [
  {
   "cell_type": "markdown",
   "id": "3e9afa75",
   "metadata": {},
   "source": [
    "# 📘 Python 列表与 Pandas 数据选择技巧整理\n",
    "本 Notebook 总结了常用于特征工程与数据分析中的 Python 列表操作技巧，适合用于数据清洗、特征构建及模型输入准备。"
   ]
  },
  {
   "cell_type": "markdown",
   "id": "70906f69",
   "metadata": {},
   "source": [
    "## 1️⃣ 列表连接技巧"
   ]
  },
  {
   "cell_type": "code",
   "execution_count": null,
   "id": "7022fe1d",
   "metadata": {},
   "outputs": [],
   "source": [
    "quantitative = ['GrLivArea', 'OverallQual']\n",
    "all_features = quantitative + ['SalePrice']\n",
    "print(all_features)  # ['GrLivArea', 'OverallQual', 'SalePrice']"
   ]
  },
  {
   "cell_type": "markdown",
   "id": "702e097e",
   "metadata": {},
   "source": [
    "## 2️⃣ 列表推导式：按数据类型选列"
   ]
  },
  {
   "cell_type": "code",
   "execution_count": null,
   "id": "21b87c39",
   "metadata": {},
   "outputs": [],
   "source": [
    "import pandas as pd\n",
    "train = pd.read_csv('train.csv')  # 示例数据需用户提供\n",
    "numeric_feats = [col for col in train.columns if train[col].dtype != 'object']\n",
    "print(numeric_feats[:5])"
   ]
  },
  {
   "cell_type": "markdown",
   "id": "b8319633",
   "metadata": {},
   "source": [
    "## 3️⃣ 正则匹配列名"
   ]
  },
  {
   "cell_type": "code",
   "execution_count": null,
   "id": "63ffea21",
   "metadata": {},
   "outputs": [],
   "source": [
    "import re\n",
    "garage_cols = [col for col in train.columns if re.match(r'Garage.*', col)]\n",
    "print(garage_cols)"
   ]
  },
  {
   "cell_type": "markdown",
   "id": "fe296b19",
   "metadata": {},
   "source": [
    "## 4️⃣ filter 方法匹配列名"
   ]
  },
  {
   "cell_type": "code",
   "execution_count": null,
   "id": "d9e94a56",
   "metadata": {},
   "outputs": [],
   "source": [
    "area_cols = train.filter(like='Area', axis=1)\n",
    "print(area_cols.columns.tolist())"
   ]
  },
  {
   "cell_type": "markdown",
   "id": "9f8b2fa6",
   "metadata": {},
   "source": [
    "## 5️⃣ zip 解包组合构造新特征"
   ]
  },
  {
   "cell_type": "code",
   "execution_count": null,
   "id": "9bd44f08",
   "metadata": {},
   "outputs": [],
   "source": [
    "for col1, col2 in zip(['YearBuilt', 'GarageYrBlt'], ['OverallQual', 'OverallCond']):\n",
    "    train[f'{col1}_{col2}'] = train[col1] * train[col2]\n",
    "train[[f'{col1}_{col2}' for col1, col2 in zip(['YearBuilt', 'GarageYrBlt'], ['OverallQual', 'OverallCond'])]].head()"
   ]
  },
  {
   "cell_type": "markdown",
   "id": "32a43098",
   "metadata": {},
   "source": [
    "## 6️⃣ Pandas Index 运算：交集与差集"
   ]
  },
  {
   "cell_type": "code",
   "execution_count": null,
   "id": "9e443219",
   "metadata": {},
   "outputs": [],
   "source": [
    "test = pd.read_csv('test.csv')  # 示例数据需用户提供\n",
    "shared = train.columns.intersection(test.columns)\n",
    "unique = train.columns.difference(test.columns)\n",
    "print('交集列:', list(shared)[:5])\n",
    "print('差集列:', list(unique)[:5])"
   ]
  }
 ],
 "metadata": {},
 "nbformat": 4,
 "nbformat_minor": 5
}
